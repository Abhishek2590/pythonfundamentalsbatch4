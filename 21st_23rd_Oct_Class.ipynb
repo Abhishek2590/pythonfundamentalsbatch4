{
 "cells": [
  {
   "cell_type": "code",
   "execution_count": 4,
   "metadata": {},
   "outputs": [
    {
     "name": "stdout",
     "output_type": "stream",
     "text": [
      "Welcome to City of lakes!!!\n",
      "Hello...Goodmorning Everyone !!!\n"
     ]
    }
   ],
   "source": [
    "class Greetings():\n",
    "    def demo(self):\n",
    "        print(\"Welcome to City of lakes!!!\")\n",
    "    def greet(self):\n",
    "        print(\"Hello...Goodmorning Everyone !!!\")\n",
    "abc = Greetings()\n",
    "abc.demo()\n",
    "abc.greet()"
   ]
  },
  {
   "cell_type": "code",
   "execution_count": 17,
   "metadata": {},
   "outputs": [
    {
     "name": "stdout",
     "output_type": "stream",
     "text": [
      "my dog's name is Batista\n",
      "my dog age is 7\n",
      "Batista is now  siting\n",
      "Batista now rolledover\n"
     ]
    }
   ],
   "source": [
    "class dog():\n",
    "    \"\"\"A Simple attempt to model a dog\"\"\"\n",
    "    def __init__(self,name,age):\n",
    "        \"\"\"Initialize the name and age attributes\"\"\"\n",
    "        self.name=name\n",
    "        self.age=age\n",
    "    def sit(self):\n",
    "        \"\"\"Dog will response to a command\"\"\"\n",
    "        print(f\"{self.name} is now  siting\")\n",
    "    def roll_over(self):\n",
    "        \"\"\"Dog will rollover in response to command\"\"\"\n",
    "        print(f\"{self.name} now rolledover\")\n",
    "        \n",
    "my_dog=dog('Batista',7) #run time argument passing\n",
    "print(f\"my dog's name is {my_dog.name}\")\n",
    "print(f\"my dog age is {my_dog.age}\")\n",
    "my_dog.sit()\n",
    "my_dog.roll_over()"
   ]
  },
  {
   "cell_type": "code",
   "execution_count": null,
   "metadata": {},
   "outputs": [],
   "source": []
  }
 ],
 "metadata": {
  "kernelspec": {
   "display_name": "Python 3",
   "language": "python",
   "name": "python3"
  },
  "language_info": {
   "codemirror_mode": {
    "name": "ipython",
    "version": 3
   },
   "file_extension": ".py",
   "mimetype": "text/x-python",
   "name": "python",
   "nbconvert_exporter": "python",
   "pygments_lexer": "ipython3",
   "version": "3.7.3"
  }
 },
 "nbformat": 4,
 "nbformat_minor": 2
}
