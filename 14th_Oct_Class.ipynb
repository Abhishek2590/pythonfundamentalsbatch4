{
 "cells": [
  {
   "cell_type": "code",
   "execution_count": 1,
   "metadata": {},
   "outputs": [
    {
     "name": "stdout",
     "output_type": "stream",
     "text": [
      "We are attending Python fundamentals morning session, let's connect again tomorrow :\n",
      "Hello Everyone !!!\n",
      "Hello Everyone !!!\n"
     ]
    }
   ],
   "source": [
    "#How to accept user input?\n",
    "\n",
    "message = input(\"We are attending Python fundamentals morning session, let's connect again tomorrow :\\n\")\n",
    "print(message)"
   ]
  },
  {
   "cell_type": "code",
   "execution_count": 2,
   "metadata": {},
   "outputs": [
    {
     "name": "stdout",
     "output_type": "stream",
     "text": [
      "Please enter your nameAbhishek\n",
      "\n",
      " Hello Good Morning,Abhishek\n"
     ]
    }
   ],
   "source": [
    "name =input('Please enter your name')\n",
    "print(f\"\\n Hello Good Morning,{name}\")"
   ]
  },
  {
   "cell_type": "code",
   "execution_count": 3,
   "metadata": {},
   "outputs": [
    {
     "name": "stdout",
     "output_type": "stream",
     "text": [
      "Enter your age30\n"
     ]
    },
    {
     "data": {
      "text/plain": [
       "True"
      ]
     },
     "execution_count": 3,
     "metadata": {},
     "output_type": "execute_result"
    }
   ],
   "source": [
    "#Typecasting\n",
    "\n",
    "age = input(\"Enter your age\")\n",
    "age = int(age)\n",
    "age>=18\n"
   ]
  },
  {
   "cell_type": "code",
   "execution_count": 4,
   "metadata": {},
   "outputs": [
    {
     "name": "stdout",
     "output_type": "stream",
     "text": [
      "Enter your age2\n"
     ]
    },
    {
     "data": {
      "text/plain": [
       "False"
      ]
     },
     "execution_count": 4,
     "metadata": {},
     "output_type": "execute_result"
    }
   ],
   "source": [
    "age = input(\"Enter your age\")\n",
    "age = int(age)\n",
    "age>=18"
   ]
  },
  {
   "cell_type": "code",
   "execution_count": 6,
   "metadata": {},
   "outputs": [
    {
     "name": "stdout",
     "output_type": "stream",
     "text": [
      "Enter your age3\n",
      "You're not eligible to vote\n"
     ]
    }
   ],
   "source": [
    "age = input(\"Enter your age\")\n",
    "age = int(age)\n",
    "if age>=18:\n",
    "    print(\"You're eligible to vote\")\n",
    "else:\n",
    "    print(\"You're not eligible to vote\")"
   ]
  },
  {
   "cell_type": "code",
   "execution_count": 7,
   "metadata": {},
   "outputs": [
    {
     "name": "stdout",
     "output_type": "stream",
     "text": [
      "Enter your age19\n",
      "You're eligible to vote\n"
     ]
    }
   ],
   "source": [
    "age = input(\"Enter your age\")\n",
    "age = int(age)\n",
    "if age>=18:\n",
    "    print(\"You're eligible to vote\")\n",
    "else:\n",
    "    print(\"You're not eligible to vote\")"
   ]
  },
  {
   "cell_type": "code",
   "execution_count": null,
   "metadata": {},
   "outputs": [],
   "source": []
  }
 ],
 "metadata": {
  "kernelspec": {
   "display_name": "Python 3",
   "language": "python",
   "name": "python3"
  },
  "language_info": {
   "codemirror_mode": {
    "name": "ipython",
    "version": 3
   },
   "file_extension": ".py",
   "mimetype": "text/x-python",
   "name": "python",
   "nbconvert_exporter": "python",
   "pygments_lexer": "ipython3",
   "version": "3.7.3"
  }
 },
 "nbformat": 4,
 "nbformat_minor": 2
}
