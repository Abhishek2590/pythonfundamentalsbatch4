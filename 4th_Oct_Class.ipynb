{
 "cells": [
  {
   "cell_type": "code",
   "execution_count": 6,
   "metadata": {},
   "outputs": [
    {
     "name": "stdout",
     "output_type": "stream",
     "text": [
      "what is your age? 16\n",
      "you're not eleigible\n"
     ]
    }
   ],
   "source": [
    "# Check if user is eligible to vote or not. If user age is 18 or more than 18 then he must be eligible to vote otherwise not eligible\n",
    "x = int(input(\"what is your age? \"))\n",
    "if x >= 18:\n",
    "    print(\"you're eligible to vote\")\n",
    "else:\n",
    "    print(\"you're not eleigible\")"
   ]
  },
  {
   "cell_type": "code",
   "execution_count": 28,
   "metadata": {},
   "outputs": [
    {
     "data": {
      "text/plain": [
       "True"
      ]
     },
     "execution_count": 28,
     "metadata": {},
     "output_type": "execute_result"
    }
   ],
   "source": [
    "#ifesle condition\n",
    "request_toppings = ['mushrooms','onions','origano']\n",
    "'mushrooms'in request_toppings"
   ]
  },
  {
   "cell_type": "code",
   "execution_count": 29,
   "metadata": {},
   "outputs": [
    {
     "data": {
      "text/plain": [
       "False"
      ]
     },
     "execution_count": 29,
     "metadata": {},
     "output_type": "execute_result"
    }
   ],
   "source": [
    "'paneer' in request_toppings"
   ]
  },
  {
   "cell_type": "code",
   "execution_count": 31,
   "metadata": {},
   "outputs": [
    {
     "name": "stdout",
     "output_type": "stream",
     "text": [
      "Phil,you can text him\n"
     ]
    }
   ],
   "source": [
    "#Scenario of not in:\n",
    "banned_user = ['andrew','smith','mike','john']\n",
    "user = 'phil'\n",
    "if user not in banned_user:\n",
    "    print(f\"{user.title()},you can text him\")"
   ]
  },
  {
   "cell_type": "code",
   "execution_count": 35,
   "metadata": {},
   "outputs": [
    {
     "name": "stdout",
     "output_type": "stream",
     "text": [
      "Enter your nameabhishek\n",
      "Abhishek,you can text him\n"
     ]
    }
   ],
   "source": [
    "#Scenario of not in:\n",
    "banned_user = ['andrew','smith','mike','john']\n",
    "user=input(str(\"Enter your name\"))\n",
    "if user not in banned_user:\n",
    "    print(f\"{user.title()},you can text him\")\n",
    "else:\n",
    "    print(f\"{user.title()},you are banned\")\n",
    "    "
   ]
  },
  {
   "cell_type": "code",
   "execution_count": 37,
   "metadata": {},
   "outputs": [
    {
     "name": "stdout",
     "output_type": "stream",
     "text": [
      "phone gets unlocked\n"
     ]
    }
   ],
   "source": [
    "unlock_code = 12345\n",
    "if unlock_code == 12345:\n",
    "    print(\"phone gets unlocked\")\n",
    "else:\n",
    "    print(\"invalid password,try again\")"
   ]
  },
  {
   "cell_type": "code",
   "execution_count": null,
   "metadata": {},
   "outputs": [],
   "source": []
  }
 ],
 "metadata": {
  "kernelspec": {
   "display_name": "Python 3",
   "language": "python",
   "name": "python3"
  },
  "language_info": {
   "codemirror_mode": {
    "name": "ipython",
    "version": 3
   },
   "file_extension": ".py",
   "mimetype": "text/x-python",
   "name": "python",
   "nbconvert_exporter": "python",
   "pygments_lexer": "ipython3",
   "version": "3.7.3"
  }
 },
 "nbformat": 4,
 "nbformat_minor": 2
}
