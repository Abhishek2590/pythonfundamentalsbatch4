{
 "cells": [
  {
   "cell_type": "code",
   "execution_count": 1,
   "metadata": {},
   "outputs": [
    {
     "name": "stdout",
     "output_type": "stream",
     "text": [
      "['maths', 'physics', 'chemistry', 'aws']\n"
     ]
    }
   ],
   "source": [
    "# Changing, adding and removing the elements from the list\n",
    "# How to change the elements from the list\n",
    "\n",
    "books = ['maths','physics','chemistry','aws']\n",
    "print(books)"
   ]
  },
  {
   "cell_type": "code",
   "execution_count": 2,
   "metadata": {},
   "outputs": [
    {
     "name": "stdout",
     "output_type": "stream",
     "text": [
      "['python', 'physics', 'chemistry', 'aws']\n"
     ]
    }
   ],
   "source": [
    "books[0]= 'python'\n",
    "print(books)"
   ]
  },
  {
   "cell_type": "code",
   "execution_count": 3,
   "metadata": {},
   "outputs": [
    {
     "name": "stdout",
     "output_type": "stream",
     "text": [
      "['python', 'physics', 'chemistry', 'aws', 'java']\n"
     ]
    }
   ],
   "source": [
    "# Adding element to the list\n",
    "books.append('java')\n",
    "print(books)"
   ]
  },
  {
   "cell_type": "code",
   "execution_count": 4,
   "metadata": {},
   "outputs": [
    {
     "name": "stdout",
     "output_type": "stream",
     "text": [
      "['python', 'physics', 'chemistry', 'java', 'aws', 'java']\n"
     ]
    }
   ],
   "source": [
    "#'java' to be added in 3rd index position\n",
    "\n",
    "books.insert(3,'java')\n",
    "print(books)"
   ]
  },
  {
   "cell_type": "code",
   "execution_count": 5,
   "metadata": {},
   "outputs": [
    {
     "name": "stdout",
     "output_type": "stream",
     "text": [
      "['python', 'physics', 'chemistry', 'java', 'aws']\n"
     ]
    }
   ],
   "source": [
    "# Deleting elements from list\n",
    "\n",
    "del books[5]\n",
    "print(books)"
   ]
  },
  {
   "cell_type": "code",
   "execution_count": 6,
   "metadata": {},
   "outputs": [
    {
     "data": {
      "text/plain": [
       "['python', 'physics', 'chemistry', 'java', 'aws']"
      ]
     },
     "execution_count": 6,
     "metadata": {},
     "output_type": "execute_result"
    }
   ],
   "source": [
    "books"
   ]
  },
  {
   "cell_type": "code",
   "execution_count": 11,
   "metadata": {},
   "outputs": [
    {
     "name": "stdout",
     "output_type": "stream",
     "text": [
      "chemistry\n",
      "['python', 'physics']\n"
     ]
    }
   ],
   "source": [
    "poped_books=books.pop(2)\n",
    "print(poped_books)\n",
    "print(books)"
   ]
  },
  {
   "cell_type": "code",
   "execution_count": null,
   "metadata": {},
   "outputs": [],
   "source": []
  }
 ],
 "metadata": {
  "kernelspec": {
   "display_name": "Python 3",
   "language": "python",
   "name": "python3"
  },
  "language_info": {
   "codemirror_mode": {
    "name": "ipython",
    "version": 3
   },
   "file_extension": ".py",
   "mimetype": "text/x-python",
   "name": "python",
   "nbconvert_exporter": "python",
   "pygments_lexer": "ipython3",
   "version": "3.7.3"
  }
 },
 "nbformat": 4,
 "nbformat_minor": 2
}
