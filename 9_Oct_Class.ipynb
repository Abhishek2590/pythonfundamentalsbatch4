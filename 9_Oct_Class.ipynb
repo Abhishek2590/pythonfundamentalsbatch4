{
 "cells": [
  {
   "cell_type": "code",
   "execution_count": null,
   "metadata": {},
   "outputs": [],
   "source": [
    "#Function\n",
    "#It is a block of organized, re-usable code that is used to perform a single operation."
   ]
  },
  {
   "cell_type": "code",
   "execution_count": null,
   "metadata": {},
   "outputs": [],
   "source": [
    "# Defining a function\n",
    "\n",
    "# def add()\n",
    "\n",
    "Syntax of a function:\n",
    "    \n",
    "    def functionname(parameters):\n",
    "        \"function_docstring\"\n",
    "        logic of the need\n",
    "        return[expression]\n",
    "    \n",
    "    1. defining a  function : ---> Parameters Passing(define)\n",
    "    2. func calling : ----> arguments passing(calling)    "
   ]
  },
  {
   "cell_type": "code",
   "execution_count": 1,
   "metadata": {},
   "outputs": [
    {
     "name": "stdout",
     "output_type": "stream",
     "text": [
      "values inside the function [20, 30, 40, [1, 2, 3, 4]]\n",
      "values outside the function [20, 30, 40, [1, 2, 3, 4]]\n"
     ]
    }
   ],
   "source": [
    "def changeme(mylist):\n",
    "    \"This changes a passed list into this function\"\n",
    "    mylist.append([1,2,3,4]);\n",
    "    print('values inside the function', mylist)\n",
    "    return\n",
    "mylist = [20,30,40]\n",
    "changeme(mylist)\n",
    "print('values outside the function', mylist)"
   ]
  },
  {
   "cell_type": "code",
   "execution_count": null,
   "metadata": {},
   "outputs": [],
   "source": []
  }
 ],
 "metadata": {
  "kernelspec": {
   "display_name": "Python 3",
   "language": "python",
   "name": "python3"
  },
  "language_info": {
   "codemirror_mode": {
    "name": "ipython",
    "version": 3
   },
   "file_extension": ".py",
   "mimetype": "text/x-python",
   "name": "python",
   "nbconvert_exporter": "python",
   "pygments_lexer": "ipython3",
   "version": "3.7.3"
  }
 },
 "nbformat": 4,
 "nbformat_minor": 2
}
