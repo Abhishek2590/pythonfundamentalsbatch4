{
 "cells": [
  {
   "cell_type": "code",
   "execution_count": 1,
   "metadata": {},
   "outputs": [
    {
     "name": "stdout",
     "output_type": "stream",
     "text": [
      "['ranger', 'hero', 'redline', 'trek']\n"
     ]
    }
   ],
   "source": [
    "#How to define a List\n",
    "#[x,y,z]\n",
    "bicycle = ['ranger','hero','redline','trek']\n",
    "print(bicycle)"
   ]
  },
  {
   "cell_type": "code",
   "execution_count": 4,
   "metadata": {},
   "outputs": [
    {
     "name": "stdout",
     "output_type": "stream",
     "text": [
      "hero\n",
      "hercules\n",
      "hercules\n"
     ]
    }
   ],
   "source": [
    "#How to access elements in a list:\n",
    "bicycles = ['ranger','hero','redline','hercules']\n",
    "print(bicycles[1])\n",
    "print(bicycles[3])\n",
    "print(bicycles[-1])"
   ]
  },
  {
   "cell_type": "code",
   "execution_count": 5,
   "metadata": {},
   "outputs": [
    {
     "name": "stdout",
     "output_type": "stream",
     "text": [
      "Hercules\n"
     ]
    }
   ],
   "source": [
    "# How to maintain a proper formatting order\n",
    "bicycles = ['hercules', 'hero', 'redline', 'ranger']\n",
    "print(bicycles[0].title())\n"
   ]
  },
  {
   "cell_type": "code",
   "execution_count": 8,
   "metadata": {},
   "outputs": [
    {
     "name": "stdout",
     "output_type": "stream",
     "text": [
      "my first bicycles was a <built-in method title of str object at 0x000001FACEC990B0>\n"
     ]
    }
   ],
   "source": [
    "bicycles = ['hercules', 'hero', 'redline', 'ranger']\n",
    "message = f\"my first bicycles was a {bicycles[0].title}\"\n",
    "print(message)"
   ]
  },
  {
   "cell_type": "code",
   "execution_count": 9,
   "metadata": {},
   "outputs": [
    {
     "name": "stdout",
     "output_type": "stream",
     "text": [
      "my first bicycles was a Hercules\n"
     ]
    }
   ],
   "source": [
    "bicycles = ['hercules', 'hero', 'redline', 'ranger']\n",
    "message = f\"my first bicycles was a {bicycles[0].title()}\"\n",
    "print(message)"
   ]
  },
  {
   "cell_type": "code",
   "execution_count": 10,
   "metadata": {},
   "outputs": [
    {
     "name": "stdout",
     "output_type": "stream",
     "text": [
      "['bajaj', 'honda', 'yamaha', 'suzuki']\n"
     ]
    }
   ],
   "source": [
    "# How to Modify elements in a List:\n",
    "\n",
    "motorcycles = ['bajaj', 'honda', 'yamaha', 'suzuki']\n",
    "print(motorcycles)"
   ]
  },
  {
   "cell_type": "code",
   "execution_count": 11,
   "metadata": {},
   "outputs": [
    {
     "name": "stdout",
     "output_type": "stream",
     "text": [
      "['pulsar', 'honda', 'yamaha', 'suzuki']\n"
     ]
    }
   ],
   "source": [
    "# We need to change 'bajaj' to 'pulsar'\n",
    "motorcycles = ['bajaj', 'honda', 'yamaha', 'suzuki']\n",
    "motorcycles[0]= 'pulsar'\n",
    "print(motorcycles)"
   ]
  },
  {
   "cell_type": "code",
   "execution_count": null,
   "metadata": {},
   "outputs": [],
   "source": []
  }
 ],
 "metadata": {
  "kernelspec": {
   "display_name": "Python 3",
   "language": "python",
   "name": "python3"
  },
  "language_info": {
   "codemirror_mode": {
    "name": "ipython",
    "version": 3
   },
   "file_extension": ".py",
   "mimetype": "text/x-python",
   "name": "python",
   "nbconvert_exporter": "python",
   "pygments_lexer": "ipython3",
   "version": "3.7.3"
  }
 },
 "nbformat": 4,
 "nbformat_minor": 2
}
